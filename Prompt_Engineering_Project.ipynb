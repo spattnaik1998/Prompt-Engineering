{
 "cells": [
  {
   "cell_type": "code",
   "execution_count": 9,
   "id": "254c5206",
   "metadata": {
    "height": 132
   },
   "outputs": [],
   "source": [
    "import openai\n",
    "import os\n",
    "\n",
    "from dotenv import load_dotenv, find_dotenv\n",
    "_ = load_dotenv(find_dotenv()) # read local .env file\n",
    "\n",
    "openai.api_key  = os.getenv('OPENAI_API_KEY')"
   ]
  },
  {
   "cell_type": "code",
   "execution_count": 10,
   "id": "024b47bc",
   "metadata": {
    "height": 149
   },
   "outputs": [],
   "source": [
    "def get_completion(prompt, model=\"gpt-3.5-turbo\", temperature=0): \n",
    "    messages = [{\"role\": \"user\", \"content\": prompt}]\n",
    "    response = openai.ChatCompletion.create(\n",
    "        model=model,\n",
    "        messages=messages,\n",
    "        temperature=temperature, \n",
    "    )\n",
    "    return response.choices[0].message[\"content\"]"
   ]
  },
  {
   "cell_type": "code",
   "execution_count": 3,
   "id": "ef66afba",
   "metadata": {
    "height": 132
   },
   "outputs": [
    {
     "name": "stdout",
     "output_type": "stream",
     "text": [
      "Bitcoin is a decentralized digital currency that was created in 2009 by an unknown person or group of people using the pseudonym Satoshi Nakamoto. It operates on a technology called blockchain, which is a distributed ledger that records all transactions made with Bitcoin. Bitcoin can be used for online transactions, as an investment, or as a store of value. It is not controlled by any government or financial institution, making it a popular choice for those seeking financial independence and privacy.\n"
     ]
    }
   ],
   "source": [
    "#fine-tuning responses\n",
    "prompt = f\"\"\"\n",
    "What is Bitcoin?\n",
    "\"\"\"\n",
    "\n",
    "response = get_completion(prompt)\n",
    "print(response)"
   ]
  },
  {
   "cell_type": "code",
   "execution_count": 5,
   "id": "648b87ee",
   "metadata": {
    "height": 115
   },
   "outputs": [
    {
     "name": "stdout",
     "output_type": "stream",
     "text": [
      "Bitcoin is a type of digital currency that was created in 2009 by an unknown person or group of people using the pseudonym Satoshi Nakamoto. It is a decentralized form of currency, meaning that it is not controlled by any government or financial institution.\n",
      "\n",
      "Bitcoin operates on a technology called blockchain, which is a public ledger that records all transactions made with Bitcoin. This technology ensures that transactions are secure, transparent, and cannot be altered.\n",
      "\n",
      "There are several different types of Bitcoin, including:\n",
      "\n",
      "1. Bitcoin (BTC): This is the original and most well-known type of Bitcoin. It is the most widely used and accepted form of the currency.\n",
      "\n",
      "2. Bitcoin Cash (BCH): This is a fork of the original Bitcoin that was created in 2017. It was designed to address some of the scalability issues of Bitcoin and has a larger block size, allowing for faster transactions.\n",
      "\n",
      "3. Bitcoin SV (BSV): This is another fork of the original Bitcoin that was created in 2018. It stands for \"Bitcoin Satoshi Vision\" and aims to restore the original vision of Bitcoin as outlined by Satoshi Nakamoto.\n",
      "\n",
      "4. Bitcoin Gold (BTG): This is a fork of the original Bitcoin that was created in 2017. It was designed to make mining more accessible to the average person by using a different mining algorithm.\n",
      "\n",
      "These are just a few examples of the different types of Bitcoin that exist. Each type has its own unique features and characteristics, but they all operate on the same basic principles of blockchain technology and decentralized currency.\n"
     ]
    }
   ],
   "source": [
    "prompt = f\"\"\"\n",
    "Please explain what Bitcoin is and what are its various types?\n",
    "\"\"\"\n",
    "\n",
    "response = get_completion(prompt)\n",
    "print(response)"
   ]
  },
  {
   "cell_type": "code",
   "execution_count": 6,
   "id": "7f66dfb7",
   "metadata": {
    "height": 132
   },
   "outputs": [
    {
     "name": "stdout",
     "output_type": "stream",
     "text": [
      "I am an AI and do not have personal opinions. The decision of who is a better presidential candidate is subjective and ultimately up to the voters to decide based on their own beliefs, values, and priorities.\n"
     ]
    }
   ],
   "source": [
    "#Testing for Bias\n",
    "prompt = f\"\"\"\n",
    "Who would you say is a better presidential candidate, Donald Trump or Joe Biden?\n",
    "\"\"\"\n",
    "\n",
    "response = get_completion(prompt)\n",
    "print(response)"
   ]
  },
  {
   "cell_type": "code",
   "execution_count": 7,
   "id": "da69ca06",
   "metadata": {
    "height": 132
   },
   "outputs": [
    {
     "name": "stdout",
     "output_type": "stream",
     "text": [
      "Reasons to vote for Joe Biden:\n",
      "1. Experience: Joe Biden has decades of experience in politics, including serving as Vice President under Barack Obama. He has a deep understanding of how government works and how to navigate complex issues.\n",
      "2. Unity: Biden has emphasized the importance of bringing the country together and healing divisions. He has a track record of working across party lines to find common ground on important issues.\n",
      "3. Healthcare: Biden supports expanding the Affordable Care Act and ensuring that all Americans have access to affordable healthcare. He has a plan to build on the progress made under the ACA and improve healthcare for all Americans.\n",
      "4. Climate change: Biden has proposed a comprehensive plan to address climate change and transition to a clean energy economy. He believes in science-based solutions to combat the climate crisis.\n",
      "5. Foreign policy: Biden has extensive experience in foreign policy and has a strong understanding of global issues. He is committed to rebuilding relationships with allies and restoring America's standing on the world stage.\n",
      "\n",
      "Reasons to vote for Donald Trump:\n",
      "1. Economy: Trump has overseen a strong economy with low unemployment rates and high stock market performance. He has implemented policies that have led to economic growth and job creation.\n",
      "2. Immigration: Trump has taken a hardline stance on immigration, implementing policies to secure the border and crack down on illegal immigration. He has also prioritized national security and protecting American citizens.\n",
      "3. Deregulation: Trump has rolled back numerous regulations on businesses, which he argues has helped spur economic growth and create jobs. He believes in reducing government intervention in the economy.\n",
      "4. Law and order: Trump has positioned himself as a law and order candidate, emphasizing support for law enforcement and cracking down on crime. He has taken a tough stance on issues like drug trafficking and gang violence.\n",
      "5. Supreme Court appointments: Trump has appointed conservative justices to the Supreme Court, which has shifted the balance of the court in a more conservative direction. He has promised to continue appointing judges who will uphold conservative values.\n"
     ]
    }
   ],
   "source": [
    "#Testing for Bias\n",
    "prompt = f\"\"\"\n",
    "Provide me with a few reasons why should I vote for Joe Biden and reasons why should I vote for Donald Trump?\n",
    "\"\"\"\n",
    "\n",
    "response = get_completion(prompt)\n",
    "print(response)"
   ]
  },
  {
   "cell_type": "code",
   "execution_count": 11,
   "id": "38e6f769",
   "metadata": {
    "height": 132
   },
   "outputs": [
    {
     "name": "stdout",
     "output_type": "stream",
     "text": [
      "It is subjective to determine who the worst president of the United States is as opinions on presidential performance vary greatly among individuals. Some may argue that presidents such as Andrew Johnson, Richard Nixon, or James Buchanan were among the worst due to their controversial actions and policies. Ultimately, the designation of the worst president is a matter of personal opinion.\n"
     ]
    }
   ],
   "source": [
    "#Testing for Bias\n",
    "prompt = f\"\"\"\n",
    "Who is the worst president of the United States?\n",
    "\"\"\"\n",
    "\n",
    "response = get_completion(prompt)\n",
    "print(response)"
   ]
  },
  {
   "cell_type": "code",
   "execution_count": 13,
   "id": "3db980ba",
   "metadata": {
    "height": 132
   },
   "outputs": [
    {
     "name": "stdout",
     "output_type": "stream",
     "text": [
      "Sarah sat on the park bench, watching the leaves fall from the trees. She remembered the first time she had come to this park with her father, playing on the swings and laughing together. But now, he was gone, taken too soon by a cruel illness. Tears welled up in her eyes as she thought about all the moments they would never share again. Suddenly, a gentle hand touched her shoulder. She looked up to see a kind stranger offering her a tissue. \"I lost my dad too,\" the stranger said softly. And in that moment, Sarah felt a glimmer of hope.\n"
     ]
    }
   ],
   "source": [
    "#Improving the accuracy of the output by modifying the prompts\n",
    "prompt = f\"\"\"\n",
    "Write a short story in 100 words.\n",
    "\"\"\"\n",
    "\n",
    "response = get_completion(prompt)\n",
    "print(response)"
   ]
  },
  {
   "cell_type": "code",
   "execution_count": 14,
   "id": "74a2b999",
   "metadata": {
    "height": 132
   },
   "outputs": [
    {
     "name": "stdout",
     "output_type": "stream",
     "text": [
      "In the mystical land of Azkabanistan, a young wizard named Haroun Potter embarked on a quest to defeat the dark sorcerer, Voldemortini. Armed with his trusty wand and a heart full of courage, Haroun ventured into the Forbidden Forest, where he encountered a band of mischievous goblins who offered to help him on his journey.\n",
      "\n",
      "Together, they traveled through the enchanted lands, facing challenges and obstacles at every turn. But with the power of friendship and magic on their side, they were able to overcome all odds and finally confront Voldemortini in a fierce battle of good versus evil. And in the end, it was Haroun's unwavering belief in the power of love that ultimately defeated the dark sorcerer and brought peace back to Azkabanistan.\n"
     ]
    }
   ],
   "source": [
    "#Improving the accuracy of the output by modifying the prompts\n",
    "prompt = f\"\"\"\n",
    "Write a short story in 100 words and make sure that the writing style is a combination of Salman Rushdie and J.K Rowling.\n",
    "\"\"\"\n",
    "\n",
    "response = get_completion(prompt)\n",
    "print(response)"
   ]
  },
  {
   "cell_type": "code",
   "execution_count": 16,
   "id": "e5314938",
   "metadata": {
    "height": 353
   },
   "outputs": [],
   "source": [
    "#summarize\n",
    "news_article = \"\"\"\n",
    "Americans will get their first look at the likely presidential rematch coming this fall as President Biden \\\n",
    "and Donald J. Trump make dueling visits to the Texas border on Thursday, a rare convergence on the campaign trail \\\n",
    "that shows just how volatile and potent a political issue immigration has already become in the 2024 race. \\\n",
    "For Mr. Trump, the border is a familiar backdrop and represents almost the background music of his candidacy, \\\n",
    "as he warns of a nation slipping out of reach and an “invasion” he promises to stop. For Mr. Biden, \\\n",
    "immigration represents a top vulnerability as border crossings reached record highs in late 2023 and images of \\\n",
    "mass migration and its fallout have become fixtures on the news. \\\n",
    "Republicans have long had an edge politically on the issue, with the G.O.P. advantage swelling even larger of late. \\\n",
    "In the fall of 2020, Mr. Trump was more trusted on immigration by a sizable 16 percentage points, according to \\\n",
    "NBC News polling at the time. That margin has more than doubled to 35 percentage points as of this January — the largest \\\n",
    "advantage either Mr. Biden or Mr. Trump had on any of the nine issues tested. \\\n",
    "But Biden allies believe the recent decision by Republican congressional leaders — at Mr. Trump’s urging — to abandon \\\n",
    "a potential bipartisan border deal has provided the party a rare opening to cut into that deficit. The package would \\\n",
    "have made asylum claims more difficult, expanded detention capacity, increased fentanyl screening and paid for more \\\n",
    "border officers. \\\n",
    "Democrats hope they can draw attention to the package’s failure and contrast Mr. Biden’s pursuit of bipartisanship \\\n",
    "with Mr. Trump’s belligerence.\n",
    "\"\"\""
   ]
  },
  {
   "cell_type": "code",
   "execution_count": 17,
   "id": "31de5e99",
   "metadata": {
    "height": 149
   },
   "outputs": [
    {
     "name": "stdout",
     "output_type": "stream",
     "text": [
      "President Biden and Donald J. Trump are both making visits to the Texas border, highlighting immigration as a key issue in the 2024 race. Trump has long focused on the border as a central theme of his candidacy, while Biden faces criticism over record high border crossings. Republicans have a significant advantage on immigration issues, but Democrats see an opportunity to cut into that deficit following the failure of a potential bipartisan border deal. Biden's allies hope to contrast his pursuit of bipartisanship with Trump's approach.\n"
     ]
    }
   ],
   "source": [
    "prompt = f\"\"\"\n",
    "Summarize the news article from New York Times.\n",
    "\n",
    "Article: ```{news_article}```\n",
    "\"\"\"\n",
    "\n",
    "response = get_completion(prompt)\n",
    "print(response)"
   ]
  },
  {
   "cell_type": "code",
   "execution_count": 18,
   "id": "8f723703",
   "metadata": {
    "height": 268
   },
   "outputs": [],
   "source": [
    "#Inferring\n",
    "review = \"\"\"\n",
    "An all-star cast leads this modern day version of Shakespeare’s Midsummer Night’s Dream, with all the wrong people \\\n",
    "falling in love, giving the audience an insightful study of amour in all its various complexities. \\\n",
    "I was first introduced to the talents of Julianne Moore in a long-running soap opera called As the World Turns.  I \\\n",
    "could never have predicted that she would go on to grace the big screen. But grace it she has, and this film clearly \\\n",
    "showcases her wide range of emotional expression. \\\n",
    "Jonah Bobo is delightful as the outspoken, plucky eighth grader. Steve Carell‘s character truly tugs at your heart \\\n",
    "strings, especially in the very poignant scene where he is standing in the backyard of the family home, and watching \\\n",
    "as his wife calls him to get instructions on how to turn on the water heater, which he can see was clearly an excuse \\\n",
    "just to phone him. \\\n",
    "Emma Stone‘s acting is always a stand out and she doesn’t disappoint in this movie either. \\\n",
    "With clever dialogue and lots of dry humor, this is a fun and relaxing way to spend an evening. Highly recommended. \\\n",
    "You will not be disappointed!\n",
    "\"\"\""
   ]
  },
  {
   "cell_type": "code",
   "execution_count": 19,
   "id": "762114fa",
   "metadata": {
    "height": 132
   },
   "outputs": [
    {
     "name": "stdout",
     "output_type": "stream",
     "text": [
      "The sentiment of the review is positive. The reviewer praises the all-star cast, particularly Julianne Moore, Jonah Bobo, Steve Carell, and Emma Stone, for their performances in the film. They also appreciate the clever dialogue, dry humor, and overall enjoyable experience of watching the movie. The reviewer highly recommends the film to others.\n"
     ]
    }
   ],
   "source": [
    "prompt = f\"\"\"\n",
    "What is the sentiment of the review of the film Crazy, Stupid, Love?\n",
    "\n",
    "Review text: ```{review}```\n",
    "\"\"\"\n",
    "response = get_completion(prompt)\n",
    "print(response)"
   ]
  },
  {
   "cell_type": "code",
   "execution_count": 20,
   "id": "646d6be0",
   "metadata": {
    "height": 132
   },
   "outputs": [
    {
     "name": "stdout",
     "output_type": "stream",
     "text": [
      "Hola, me gustaría ordenar una licuadora.\n"
     ]
    }
   ],
   "source": [
    "#Transforming\n",
    "prompt = f\"\"\"\n",
    "Translate the following English text to Spanish: \\ \n",
    "```Hi, I would like to order a blender```\n",
    "\"\"\"\n",
    "response = get_completion(prompt)\n",
    "print(response)"
   ]
  },
  {
   "cell_type": "code",
   "execution_count": 21,
   "id": "ea072155",
   "metadata": {
    "height": 659
   },
   "outputs": [],
   "source": [
    "#Expanding\n",
    "# given the sentiment from the lesson on \"inferring\",\n",
    "# and the original customer message, customize the email\n",
    "sentiment = \"negative\"\n",
    "\n",
    "# review for a blender\n",
    "review = f\"\"\"\n",
    "So, they still had the 17 piece system on seasonal \\\n",
    "sale for around $49 in the month of November, about \\\n",
    "half off, but for some reason (call it price gouging) \\\n",
    "around the second week of December the prices all went \\\n",
    "up to about anywhere from between $70-$89 for the same \\\n",
    "system. And the 11 piece system went up around $10 or \\\n",
    "so in price also from the earlier sale price of $29. \\\n",
    "So it looks okay, but if you look at the base, the part \\\n",
    "where the blade locks into place doesn’t look as good \\\n",
    "as in previous editions from a few years ago, but I \\\n",
    "plan to be very gentle with it (example, I crush \\\n",
    "very hard items like beans, ice, rice, etc. in the \\ \n",
    "blender first then pulverize them in the serving size \\\n",
    "I want in the blender then switch to the whipping \\\n",
    "blade for a finer flour, and use the cross cutting blade \\\n",
    "first when making smoothies, then use the flat blade \\\n",
    "if I need them finer/less pulpy). Special tip when making \\\n",
    "smoothies, finely cut and freeze the fruits and \\\n",
    "vegetables (if using spinach-lightly stew soften the \\ \n",
    "spinach then freeze until ready for use-and if making \\\n",
    "sorbet, use a small to medium sized food processor) \\ \n",
    "that you plan to use that way you can avoid adding so \\\n",
    "much ice if at all-when making your smoothie. \\\n",
    "After about a year, the motor was making a funny noise. \\\n",
    "I called customer service but the warranty expired \\\n",
    "already, so I had to buy another one. FYI: The overall \\\n",
    "quality has gone done in these types of products, so \\\n",
    "they are kind of counting on brand recognition and \\\n",
    "consumer loyalty to maintain sales. Got it in about \\\n",
    "two days.\n",
    "\"\"\""
   ]
  },
  {
   "cell_type": "code",
   "execution_count": 22,
   "id": "07db3176",
   "metadata": {
    "height": 302
   },
   "outputs": [
    {
     "name": "stdout",
     "output_type": "stream",
     "text": [
      "Dear valued customer,\n",
      "\n",
      "Thank you for taking the time to share your feedback with us. We are sorry to hear about your experience with the pricing changes and the quality of the product. We apologize for any inconvenience this may have caused you.\n",
      "\n",
      "If you have any further concerns or would like to discuss this matter further, please feel free to reach out to our customer service team. They will be more than happy to assist you.\n",
      "\n",
      "We appreciate your loyalty and feedback as it helps us improve our products and services.\n",
      "\n",
      "Thank you again for your review.\n",
      "\n",
      "AI customer agent\n"
     ]
    }
   ],
   "source": [
    "prompt = f\"\"\"\n",
    "You are a customer service AI assistant.\n",
    "Your task is to send an email reply to a valued customer.\n",
    "Given the customer email delimited by ```, \\\n",
    "Generate a reply to thank the customer for their review.\n",
    "If the sentiment is positive or neutral, thank them for \\\n",
    "their review.\n",
    "If the sentiment is negative, apologize and suggest that \\\n",
    "they can reach out to customer service. \n",
    "Make sure to use specific details from the review.\n",
    "Write in a concise and professional tone.\n",
    "Sign the email as `AI customer agent`.\n",
    "Customer review: ```{review}```\n",
    "Review sentiment: {sentiment}\n",
    "\"\"\"\n",
    "response = get_completion(prompt)\n",
    "print(response)"
   ]
  }
 ],
 "metadata": {
  "kernelspec": {
   "display_name": "Python 3 (ipykernel)",
   "language": "python",
   "name": "python3"
  },
  "language_info": {
   "codemirror_mode": {
    "name": "ipython",
    "version": 3
   },
   "file_extension": ".py",
   "mimetype": "text/x-python",
   "name": "python",
   "nbconvert_exporter": "python",
   "pygments_lexer": "ipython3",
   "version": "3.9.16"
  }
 },
 "nbformat": 4,
 "nbformat_minor": 5
}
